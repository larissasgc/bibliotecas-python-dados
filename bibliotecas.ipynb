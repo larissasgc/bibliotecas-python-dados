{
  "nbformat": 4,
  "nbformat_minor": 0,
  "metadata": {
    "colab": {
      "provenance": []
    },
    "kernelspec": {
      "name": "python3",
      "display_name": "Python 3"
    },
    "language_info": {
      "name": "python"
    }
  },
  "cells": [
    {
      "cell_type": "markdown",
      "source": [
        "# Se eu tenho uma lista (por exemplo) ..."
      ],
      "metadata": {
        "id": "TM5BXWokIY6g"
      }
    },
    {
      "cell_type": "code",
      "source": [
        "listaNotas = [5, 7, 8.4, 6.8, 9.2, 4, 3.5, 8.3]"
      ],
      "metadata": {
        "id": "KqZGJmcGImXR"
      },
      "execution_count": 1,
      "outputs": []
    },
    {
      "cell_type": "markdown",
      "source": [
        "Eu consigo fazer diversas operações e tirar diferentes informações"
      ],
      "metadata": {
        "id": "V4ZAVwQ2I35R"
      }
    },
    {
      "cell_type": "markdown",
      "source": [
        "## Estatísticas básicas (usando NumPy)"
      ],
      "metadata": {
        "id": "t3D5a21rJUJL"
      }
    },
    {
      "cell_type": "markdown",
      "source": [
        "**Importando as bibliotecas ...**"
      ],
      "metadata": {
        "id": "FgdDyfZvJf94"
      }
    },
    {
      "cell_type": "code",
      "source": [
        "import numpy as np\n",
        "import pandas as pd"
      ],
      "metadata": {
        "id": "sMFLT6LKJm4p"
      },
      "execution_count": 3,
      "outputs": []
    },
    {
      "cell_type": "markdown",
      "source": [
        "Posso obter a média das notas"
      ],
      "metadata": {
        "id": "Kr3myucgJuEH"
      }
    },
    {
      "cell_type": "code",
      "source": [
        "np.mean(listaNotas)"
      ],
      "metadata": {
        "colab": {
          "base_uri": "https://localhost:8080/"
        },
        "id": "2xFaLocnJaN7",
        "outputId": "8b3b23dc-9882-4daf-d4d3-b3bea58b06a1"
      },
      "execution_count": 4,
      "outputs": [
        {
          "output_type": "execute_result",
          "data": {
            "text/plain": [
              "6.525"
            ]
          },
          "metadata": {},
          "execution_count": 4
        }
      ]
    },
    {
      "cell_type": "markdown",
      "source": [
        "Posso obter a mediana"
      ],
      "metadata": {
        "id": "zYFWQac2JzD2"
      }
    },
    {
      "cell_type": "code",
      "source": [
        "np.median(listaNotas)"
      ],
      "metadata": {
        "colab": {
          "base_uri": "https://localhost:8080/"
        },
        "id": "CVBcwoQ4J50L",
        "outputId": "64e4b8ca-e951-4ff6-9269-6257ed060320"
      },
      "execution_count": 5,
      "outputs": [
        {
          "output_type": "execute_result",
          "data": {
            "text/plain": [
              "6.9"
            ]
          },
          "metadata": {},
          "execution_count": 5
        }
      ]
    },
    {
      "cell_type": "markdown",
      "source": [
        "Posso obter o desvio padrão"
      ],
      "metadata": {
        "id": "KXcuC-LfJ-kQ"
      }
    },
    {
      "cell_type": "code",
      "source": [
        "np.std(listaNotas)"
      ],
      "metadata": {
        "colab": {
          "base_uri": "https://localhost:8080/"
        },
        "id": "togsj0stKDZA",
        "outputId": "578fa5cd-6740-4880-d3e2-142c8f1f3b5c"
      },
      "execution_count": 6,
      "outputs": [
        {
          "output_type": "execute_result",
          "data": {
            "text/plain": [
              "1.9992185973524756"
            ]
          },
          "metadata": {},
          "execution_count": 6
        }
      ]
    },
    {
      "cell_type": "markdown",
      "source": [
        "Máximo e mínimo"
      ],
      "metadata": {
        "id": "_vvwSYf4KH6_"
      }
    },
    {
      "cell_type": "code",
      "source": [
        "np.max(listaNotas)"
      ],
      "metadata": {
        "colab": {
          "base_uri": "https://localhost:8080/"
        },
        "id": "PJrrmTRFKMjv",
        "outputId": "3fe29178-04b1-4757-bae7-9e23c2815dab"
      },
      "execution_count": 8,
      "outputs": [
        {
          "output_type": "execute_result",
          "data": {
            "text/plain": [
              "9.2"
            ]
          },
          "metadata": {},
          "execution_count": 8
        }
      ]
    },
    {
      "cell_type": "code",
      "source": [
        "np.min(listaNotas)"
      ],
      "metadata": {
        "colab": {
          "base_uri": "https://localhost:8080/"
        },
        "id": "qYpwgJ4eKTJ8",
        "outputId": "5366537a-51b3-4a9c-86e5-b457c751eace"
      },
      "execution_count": 9,
      "outputs": [
        {
          "output_type": "execute_result",
          "data": {
            "text/plain": [
              "3.5"
            ]
          },
          "metadata": {},
          "execution_count": 9
        }
      ]
    },
    {
      "cell_type": "markdown",
      "source": [
        "## Distribuição dos dados (usando Matplotlib e Seaborn)"
      ],
      "metadata": {
        "id": "m1fJZoYbKaTS"
      }
    },
    {
      "cell_type": "markdown",
      "source": [
        "**Importar as bibliotecas**"
      ],
      "metadata": {
        "id": "DNUpZCLtKq9c"
      }
    },
    {
      "cell_type": "code",
      "source": [
        "import matplotlib.pyplot as plt\n",
        "import seaborn as sns"
      ],
      "metadata": {
        "id": "UYm1A8W-KjGk"
      },
      "execution_count": 11,
      "outputs": []
    },
    {
      "cell_type": "markdown",
      "source": [
        "Construir um histograma"
      ],
      "metadata": {
        "id": "ciAVLS-2KyYt"
      }
    },
    {
      "cell_type": "code",
      "source": [
        "plt.hist(listaNotas, bins=5, edgecolor='black') #histograma com 5 bins e borda preta\n",
        "plt.xlabel('Notas') #Nome do eixo x\n",
        "plt.ylabel('Frequência') #Nome do eixo y\n",
        "plt.title('Distribuição das Notas') #Nome do gráfico\n",
        "plt.show() #Mostrar o gráfico"
      ],
      "metadata": {
        "colab": {
          "base_uri": "https://localhost:8080/",
          "height": 472
        },
        "id": "utuvnN8oK5jY",
        "outputId": "bc2a128f-946d-4f2d-e35c-950830ffa1dc"
      },
      "execution_count": 13,
      "outputs": [
        {
          "output_type": "display_data",
          "data": {
            "text/plain": [
              "<Figure size 640x480 with 1 Axes>"
            ],
            "image/png": "[encoded data removed]"
          },
          "metadata": {}
        }
      ]
    },
    {
      "cell_type": "markdown",
      "source": [
        "Usando seaborn"
      ],
      "metadata": {
        "id": "QjcGAAFNLMte"
      }
    },
    {
      "cell_type": "code",
      "source": [
        "sns.boxplot(listaNotas) # Outro estilo de gráfico\n",
        "plt.show()"
      ],
      "metadata": {
        "colab": {
          "base_uri": "https://localhost:8080/",
          "height": 411
        },
        "id": "D-xjdurLLOK2",
        "outputId": "a0a910d0-29ba-4c3f-ee66-c0ef8f49737f"
      },
      "execution_count": 14,
      "outputs": [
        {
          "output_type": "display_data",
          "data": {
            "text/plain": [
              "<Figure size 640x480 with 1 Axes>"
            ],
            "image/png": "[encoded data removed]"
          },
          "metadata": {}
        }
      ]
    },
    {
      "cell_type": "markdown",
      "source": [
        "## Converter uma lista em um DataFrame"
      ],
      "metadata": {
        "id": "90LgwRB7LWus"
      }
    },
    {
      "cell_type": "code",
      "source": [
        "df = pd.DataFrame(listaNotas, columns=['Notas'])\n",
        "print(df.describe())  # Obter todas as estatísticas resumidas"
      ],
      "metadata": {
        "colab": {
          "base_uri": "https://localhost:8080/"
        },
        "id": "my_QEIBKLdzo",
        "outputId": "908b7ee4-22b3-46a8-f88c-30e279a7b00f"
      },
      "execution_count": 15,
      "outputs": [
        {
          "output_type": "stream",
          "name": "stdout",
          "text": [
            "          Notas\n",
            "count  8.000000\n",
            "mean   6.525000\n",
            "std    2.137255\n",
            "min    3.500000\n",
            "25%    4.750000\n",
            "50%    6.900000\n",
            "75%    8.325000\n",
            "max    9.200000\n"
          ]
        }
      ]
    }
  ]
}